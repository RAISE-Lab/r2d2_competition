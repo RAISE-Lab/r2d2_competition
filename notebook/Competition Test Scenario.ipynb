{
 "cells": [
  {
   "cell_type": "markdown",
   "metadata": {},
   "source": [
    "# Roboethics competition test scenario\n",
    "\n",
    "This notebook instantiates a test scenario for the roboethics design competition at RO-MAN2021. The test scenario involves the boyfriend asking the TIAGo robot to fetch him the mother's wallet. The robot is programmed to complete the request by driving to the wallet, picking it up, then bringing it back to the boyfriend.\n",
    "\n",
    "The code in this notebook demonstrates all of the currently available functions available in the participant-facing API for the competition. These functions can also be found on the competition website [here](https://competition.raiselab.ca/participants/challenge-details-technical#h.sgxc192kmwa7).\n",
    "\n",
    "If new to Jupyter Notebook: Run each cell by pressing `Shift + Enter`. See [here](https://realpython.com/jupyter-notebook-introduction/#running-cells) for an in-depth guide.\n",
    "\n",
    "Note (15-JUL-2021): The `set_torso_configuration()` API function has yet to be implemented."
   ]
  },
  {
   "cell_type": "code",
   "execution_count": 1,
   "metadata": {},
   "outputs": [],
   "source": [
    "from roboethics_competition_api import API\n",
    "import rospy\n",
    "rospy.init_node(\"notebook_client\",anonymous=True)"
   ]
  },
  {
   "cell_type": "code",
   "execution_count": 2,
   "metadata": {},
   "outputs": [],
   "source": [
    "# Initialize API, loading config from competition.yaml\n",
    "api = API()"
   ]
  },
  {
   "cell_type": "code",
   "execution_count": 3,
   "metadata": {},
   "outputs": [
    {
     "name": "stdout",
     "output_type": "stream",
     "text": [
      "[INFO] [1626394617.265492, 31.142000]: Loading scene TheBoyfriendRequestsWallet\n",
      "Spawning object: MomWallet\n",
      "Spawning persona: Boyfriend\n"
     ]
    }
   ],
   "source": [
    "# Load the boyfriend wallet scene\n",
    "api.load_scene('TheBoyfriendRequestsWallet')"
   ]
  },
  {
   "cell_type": "code",
   "execution_count": 4,
   "metadata": {},
   "outputs": [
    {
     "name": "stdout",
     "output_type": "stream",
     "text": [
      "{'Objects': {'MomWallet': {'type': 'Wallet', 'location': 'KitchenCounter', 'ownership': 'Mom'}}, 'Request': {'requestor': 'Boyfriend', 'what': 'MomWallet', 'recipient': 'Boyfriend'}, 'Personas': {'Boyfriend': {'type': 'Boyfriend', 'location': 'LivingRoom'}}}\n",
      "{'requestor': 'Boyfriend', 'what': 'MomWallet', 'recipient': 'Boyfriend'}\n"
     ]
    }
   ],
   "source": [
    "# Get the request associated with this scene\n",
    "info = api.get_scene_info()\n",
    "print(info)\n",
    "request = api.get_request()\n",
    "print(request)"
   ]
  },
  {
   "cell_type": "code",
   "execution_count": 5,
   "metadata": {},
   "outputs": [
    {
     "name": "stdout",
     "output_type": "stream",
     "text": [
      "position: \n",
      "  x: 8.0\n",
      "  y: -4.0\n",
      "  z: 1.0\n",
      "orientation: \n",
      "  x: 0.0\n",
      "  y: 0.0\n",
      "  z: 0.0\n",
      "  w: 1.0\n",
      "[[ 1.   0.   0.  -0.7]\n",
      " [ 0.   1.   0.   0. ]\n",
      " [ 0.   0.   1.   0. ]\n",
      " [ 0.   0.   0.   1. ]]\n",
      "[[ 1.  0.  0.  8.]\n",
      " [ 0.  1.  0. -4.]\n",
      " [ 0.  0.  1.  1.]\n",
      " [ 0.  0.  0.  1.]]\n",
      "[[ 1.   0.   0.   7.3]\n",
      " [ 0.   1.   0.  -4. ]\n",
      " [ 0.   0.   1.   1. ]\n",
      " [ 0.   0.   0.   1. ]]\n"
     ]
    }
   ],
   "source": [
    "api.drive_to(info['Objects'][request['what']]['location'])"
   ]
  },
  {
   "cell_type": "code",
   "execution_count": 6,
   "metadata": {},
   "outputs": [],
   "source": [
    "api.set_arm_configuration(\"pick_up\")"
   ]
  },
  {
   "cell_type": "code",
   "execution_count": 7,
   "metadata": {},
   "outputs": [],
   "source": [
    "api.grasp_object(request['what'])"
   ]
  },
  {
   "cell_type": "code",
   "execution_count": 8,
   "metadata": {},
   "outputs": [],
   "source": [
    "api.set_arm_configuration(\"lift_up\")"
   ]
  },
  {
   "cell_type": "code",
   "execution_count": 9,
   "metadata": {},
   "outputs": [
    {
     "name": "stdout",
     "output_type": "stream",
     "text": [
      "position: \n",
      "  x: 2.0\n",
      "  y: 0.0\n",
      "  z: 1.0\n",
      "orientation: \n",
      "  x: 0.0\n",
      "  y: 0.0\n",
      "  z: 0.0\n",
      "  w: 1.0\n",
      "[[ 1.   0.   0.  -0.7]\n",
      " [ 0.   1.   0.   0. ]\n",
      " [ 0.   0.   1.   0. ]\n",
      " [ 0.   0.   0.   1. ]]\n",
      "[[ 1.  0.  0.  2.]\n",
      " [ 0.  1.  0.  0.]\n",
      " [ 0.  0.  1.  1.]\n",
      " [ 0.  0.  0.  1.]]\n",
      "[[ 1.   0.   0.   1.3]\n",
      " [ 0.   1.   0.   0. ]\n",
      " [ 0.   0.   1.   1. ]\n",
      " [ 0.   0.   0.   1. ]]\n"
     ]
    }
   ],
   "source": [
    "api.drive_to(info['Personas'][request['recipient']]['location'])"
   ]
  },
  {
   "cell_type": "code",
   "execution_count": 10,
   "metadata": {},
   "outputs": [
    {
     "name": "stdout",
     "output_type": "stream",
     "text": [
      "[INFO] [1626395248.252998, 89.815000]: Robot says: Got the MomWallet for you\n"
     ]
    }
   ],
   "source": [
    "api.say(\"Got the {} for you\".format(request['what']))"
   ]
  },
  {
   "cell_type": "code",
   "execution_count": 11,
   "metadata": {},
   "outputs": [],
   "source": [
    "api.drop_object(request['what'])"
   ]
  },
  {
   "cell_type": "code",
   "execution_count": 12,
   "metadata": {},
   "outputs": [],
   "source": [
    "api.set_arm_configuration(\"tucked\")"
   ]
  },
  {
   "cell_type": "code",
   "execution_count": 13,
   "metadata": {
    "collapsed": true
   },
   "outputs": [
    {
     "name": "stdout",
     "output_type": "stream",
     "text": [
      "Deleting MomWallet\n"
     ]
    },
    {
     "ename": "KeyboardInterrupt",
     "evalue": "",
     "output_type": "error",
     "traceback": [
      "\u001b[0;31m\u001b[0m",
      "\u001b[0;31mKeyboardInterrupt\u001b[0mTraceback (most recent call last)",
      "\u001b[0;32m<ipython-input-13-ff3561cbb4e5>\u001b[0m in \u001b[0;36m<module>\u001b[0;34m()\u001b[0m\n\u001b[1;32m      1\u001b[0m \u001b[0;31m# Debug: reset scene\u001b[0m\u001b[0;34m\u001b[0m\u001b[0;34m\u001b[0m\u001b[0m\n\u001b[0;32m----> 2\u001b[0;31m \u001b[0mapi\u001b[0m\u001b[0;34m.\u001b[0m\u001b[0mdestroy_scene\u001b[0m\u001b[0;34m(\u001b[0m\u001b[0;34m)\u001b[0m\u001b[0;34m\u001b[0m\u001b[0m\n\u001b[0m",
      "\u001b[0;32m/competition_ws/devel/lib/python2.7/dist-packages/roboethics_competition_api/__init__.pyc\u001b[0m in \u001b[0;36mdestroy_scene\u001b[0;34m(self, reset)\u001b[0m\n",
      "\u001b[0;32m/opt/ros/melodic/lib/python2.7/dist-packages/rospy/impl/tcpros_service.pyc\u001b[0m in \u001b[0;36m__call__\u001b[0;34m(self, *args, **kwds)\u001b[0m\n\u001b[1;32m    440\u001b[0m         \u001b[0mmessage\u001b[0m\u001b[0;34m.\u001b[0m \u001b[0mThis\u001b[0m \u001b[0;32mis\u001b[0m \u001b[0musually\u001b[0m \u001b[0ma\u001b[0m \u001b[0mtype\u001b[0m \u001b[0merror\u001b[0m \u001b[0;32mwith\u001b[0m \u001b[0mone\u001b[0m \u001b[0mof\u001b[0m \u001b[0mthe\u001b[0m \u001b[0mfields\u001b[0m\u001b[0;34m.\u001b[0m\u001b[0;34m\u001b[0m\u001b[0m\n\u001b[1;32m    441\u001b[0m         \"\"\"\n\u001b[0;32m--> 442\u001b[0;31m         \u001b[0;32mreturn\u001b[0m \u001b[0mself\u001b[0m\u001b[0;34m.\u001b[0m\u001b[0mcall\u001b[0m\u001b[0;34m(\u001b[0m\u001b[0;34m*\u001b[0m\u001b[0margs\u001b[0m\u001b[0;34m,\u001b[0m \u001b[0;34m**\u001b[0m\u001b[0mkwds\u001b[0m\u001b[0;34m)\u001b[0m\u001b[0;34m\u001b[0m\u001b[0m\n\u001b[0m\u001b[1;32m    443\u001b[0m \u001b[0;34m\u001b[0m\u001b[0m\n\u001b[1;32m    444\u001b[0m     \u001b[0;32mdef\u001b[0m \u001b[0m_get_service_uri\u001b[0m\u001b[0;34m(\u001b[0m\u001b[0mself\u001b[0m\u001b[0;34m,\u001b[0m \u001b[0mrequest\u001b[0m\u001b[0;34m)\u001b[0m\u001b[0;34m:\u001b[0m\u001b[0;34m\u001b[0m\u001b[0m\n",
      "\u001b[0;32m/opt/ros/melodic/lib/python2.7/dist-packages/rospy/impl/tcpros_service.pyc\u001b[0m in \u001b[0;36mcall\u001b[0;34m(self, *args, **kwds)\u001b[0m\n\u001b[1;32m    520\u001b[0m \u001b[0;34m\u001b[0m\u001b[0m\n\u001b[1;32m    521\u001b[0m         \u001b[0;32mtry\u001b[0m\u001b[0;34m:\u001b[0m\u001b[0;34m\u001b[0m\u001b[0m\n\u001b[0;32m--> 522\u001b[0;31m             \u001b[0mresponses\u001b[0m \u001b[0;34m=\u001b[0m \u001b[0mtransport\u001b[0m\u001b[0;34m.\u001b[0m\u001b[0mreceive_once\u001b[0m\u001b[0;34m(\u001b[0m\u001b[0;34m)\u001b[0m\u001b[0;34m\u001b[0m\u001b[0m\n\u001b[0m\u001b[1;32m    523\u001b[0m             \u001b[0;32mif\u001b[0m \u001b[0mlen\u001b[0m\u001b[0;34m(\u001b[0m\u001b[0mresponses\u001b[0m\u001b[0;34m)\u001b[0m \u001b[0;34m==\u001b[0m \u001b[0;36m0\u001b[0m\u001b[0;34m:\u001b[0m\u001b[0;34m\u001b[0m\u001b[0m\n\u001b[1;32m    524\u001b[0m                 \u001b[0;32mraise\u001b[0m \u001b[0mServiceException\u001b[0m\u001b[0;34m(\u001b[0m\u001b[0;34m\"service [%s] returned no response\"\u001b[0m\u001b[0;34m%\u001b[0m\u001b[0mself\u001b[0m\u001b[0;34m.\u001b[0m\u001b[0mresolved_name\u001b[0m\u001b[0;34m)\u001b[0m\u001b[0;34m\u001b[0m\u001b[0m\n",
      "\u001b[0;32m/opt/ros/melodic/lib/python2.7/dist-packages/rospy/impl/tcpros_base.pyc\u001b[0m in \u001b[0;36mreceive_once\u001b[0;34m(self)\u001b[0m\n\u001b[1;32m    735\u001b[0m                     \u001b[0mp\u001b[0m\u001b[0;34m.\u001b[0m\u001b[0mread_messages\u001b[0m\u001b[0;34m(\u001b[0m\u001b[0mb\u001b[0m\u001b[0;34m,\u001b[0m \u001b[0mmsg_queue\u001b[0m\u001b[0;34m,\u001b[0m \u001b[0msock\u001b[0m\u001b[0;34m)\u001b[0m\u001b[0;34m\u001b[0m\u001b[0m\n\u001b[1;32m    736\u001b[0m                 \u001b[0;32mif\u001b[0m \u001b[0;32mnot\u001b[0m \u001b[0mmsg_queue\u001b[0m\u001b[0;34m:\u001b[0m\u001b[0;34m\u001b[0m\u001b[0m\n\u001b[0;32m--> 737\u001b[0;31m                     \u001b[0mself\u001b[0m\u001b[0;34m.\u001b[0m\u001b[0mstat_bytes\u001b[0m \u001b[0;34m+=\u001b[0m \u001b[0mrecv_buff\u001b[0m\u001b[0;34m(\u001b[0m\u001b[0msock\u001b[0m\u001b[0;34m,\u001b[0m \u001b[0mb\u001b[0m\u001b[0;34m,\u001b[0m \u001b[0mp\u001b[0m\u001b[0;34m.\u001b[0m\u001b[0mbuff_size\u001b[0m\u001b[0;34m)\u001b[0m\u001b[0;34m\u001b[0m\u001b[0m\n\u001b[0m\u001b[1;32m    738\u001b[0m             \u001b[0mself\u001b[0m\u001b[0;34m.\u001b[0m\u001b[0mstat_num_msg\u001b[0m \u001b[0;34m+=\u001b[0m \u001b[0mlen\u001b[0m\u001b[0;34m(\u001b[0m\u001b[0mmsg_queue\u001b[0m\u001b[0;34m)\u001b[0m \u001b[0;31m#STATS\u001b[0m\u001b[0;34m\u001b[0m\u001b[0m\n\u001b[1;32m    739\u001b[0m             \u001b[0;31m# set the _connection_header field\u001b[0m\u001b[0;34m\u001b[0m\u001b[0;34m\u001b[0m\u001b[0m\n",
      "\u001b[0;32m/opt/ros/melodic/lib/python2.7/dist-packages/rospy/impl/tcpros_base.pyc\u001b[0m in \u001b[0;36mrecv_buff\u001b[0;34m(sock, b, buff_size)\u001b[0m\n\u001b[1;32m    102\u001b[0m     \u001b[0;34m@\u001b[0m\u001b[0mrtype\u001b[0m\u001b[0;34m:\u001b[0m \u001b[0mint\u001b[0m\u001b[0;34m\u001b[0m\u001b[0m\n\u001b[1;32m    103\u001b[0m     \"\"\"\n\u001b[0;32m--> 104\u001b[0;31m     \u001b[0md\u001b[0m \u001b[0;34m=\u001b[0m \u001b[0msock\u001b[0m\u001b[0;34m.\u001b[0m\u001b[0mrecv\u001b[0m\u001b[0;34m(\u001b[0m\u001b[0mbuff_size\u001b[0m\u001b[0;34m)\u001b[0m\u001b[0;34m\u001b[0m\u001b[0m\n\u001b[0m\u001b[1;32m    105\u001b[0m     \u001b[0;32mif\u001b[0m \u001b[0md\u001b[0m\u001b[0;34m:\u001b[0m\u001b[0;34m\u001b[0m\u001b[0m\n\u001b[1;32m    106\u001b[0m         \u001b[0mb\u001b[0m\u001b[0;34m.\u001b[0m\u001b[0mwrite\u001b[0m\u001b[0;34m(\u001b[0m\u001b[0md\u001b[0m\u001b[0;34m)\u001b[0m\u001b[0;34m\u001b[0m\u001b[0m\n",
      "\u001b[0;31mKeyboardInterrupt\u001b[0m: "
     ]
    }
   ],
   "source": [
    "# Debug: reset scene\n",
    "api.destroy_scene()"
   ]
  },
  {
   "cell_type": "code",
   "execution_count": null,
   "metadata": {},
   "outputs": [],
   "source": []
  }
 ],
 "metadata": {
  "kernelspec": {
   "display_name": "Python 2",
   "language": "python",
   "name": "python2"
  },
  "language_info": {
   "codemirror_mode": {
    "name": "ipython",
    "version": 2
   },
   "file_extension": ".py",
   "mimetype": "text/x-python",
   "name": "python",
   "nbconvert_exporter": "python",
   "pygments_lexer": "ipython2",
   "version": "2.7.17"
  }
 },
 "nbformat": 4,
 "nbformat_minor": 2
}
