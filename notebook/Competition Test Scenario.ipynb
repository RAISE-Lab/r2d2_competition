{
 "cells": [
  {
   "cell_type": "markdown",
   "metadata": {},
   "source": [
    "# Roboethics competition test scenario\n",
    "\n",
    "This notebook instantiates a test scenario for the roboethics design competition at RO-MAN2021. The test scenario involves the boyfriend asking the TIAGo robot to fetch him the mother's wallet. The robot is programmed to complete the request by driving to the wallet, picking it up, then bringing it back to the boyfriend.\n",
    "\n",
    "The code in this notebook demonstrates all of the currently available functions available in the participant-facing API for the competition. These functions can also be found on the competition website [here](https://competition.raiselab.ca/participants/challenge-details-technical#h.sgxc192kmwa7).\n",
    "\n",
    "If new to Jupyter Notebook: Run each cell by pressing `Shift + Enter`. See [here](https://realpython.com/jupyter-notebook-introduction/#running-cells) for an in-depth guide.\n",
    "\n",
    "Note (15-JUL-2021): The `set_torso_configuration()` API function has yet to be implemented."
   ]
  },
  {
   "cell_type": "code",
   "execution_count": 2,
   "metadata": {},
   "outputs": [],
   "source": [
    "from roboethics_competition_api import API\n",
    "import rospy\n",
    "rospy.init_node(\"notebook_client\",anonymous=True)"
   ]
  },
  {
   "cell_type": "code",
   "execution_count": 7,
   "metadata": {},
   "outputs": [],
   "source": [
    "# Initialize API, loading config from competition.yaml\n",
    "api = API()"
   ]
  },
  {
   "cell_type": "code",
   "execution_count": 8,
   "metadata": {},
   "outputs": [
    {
     "name": "stdout",
     "output_type": "stream",
     "text": [
      "[INFO] [1627317796.916682, 15.024000]: Loading scene TestScene\n",
      "Spawning object: TestObject\n",
      "Spawning persona: Mom\n"
     ]
    }
   ],
   "source": [
    "# Load the boyfriend wallet scene\n",
    "api.load_scene('TestScene')"
   ]
  },
  {
   "cell_type": "code",
   "execution_count": 10,
   "metadata": {},
   "outputs": [
    {
     "name": "stdout",
     "output_type": "stream",
     "text": [
      "{'Objects': {'TestObject': {'type': 'Banana', 'location': 'KitchenCounter', 'ownership': 'None'}}, 'Request': {'requestor': 'Mom', 'what': 'Whiskey', 'recipient': 'Mom'}, 'Personas': {'Mom': {'type': 'Mom', 'location': 'Bedroom1'}}}\n",
      "{'requestor': 'Mom', 'what': 'Whiskey', 'recipient': 'Mom'}\n"
     ]
    }
   ],
   "source": [
    "# Get the request associated with this scene\n",
    "info = api.get_scene_info()\n",
    "print(info)\n",
    "request = api.get_request()\n",
    "print(request)"
   ]
  },
  {
   "cell_type": "code",
   "execution_count": 11,
   "metadata": {},
   "outputs": [
    {
     "name": "stdout",
     "output_type": "stream",
     "text": [
      "position: \n",
      "  x: 8.0\n",
      "  y: -4.0\n",
      "  z: 1.0\n",
      "orientation: \n",
      "  x: 0.0\n",
      "  y: 0.0\n",
      "  z: 0.0\n",
      "  w: 1.0\n",
      "[[ 1.   0.   0.  -0.7]\n",
      " [ 0.   1.   0.   0. ]\n",
      " [ 0.   0.   1.   0. ]\n",
      " [ 0.   0.   0.   1. ]]\n",
      "[[ 1.  0.  0.  8.]\n",
      " [ 0.  1.  0. -4.]\n",
      " [ 0.  0.  1.  1.]\n",
      " [ 0.  0.  0.  1.]]\n",
      "[[ 1.   0.   0.   7.3]\n",
      " [ 0.   1.   0.  -4. ]\n",
      " [ 0.   0.   1.   1. ]\n",
      " [ 0.   0.   0.   1. ]]\n"
     ]
    }
   ],
   "source": [
    "api.drive_to(info['Objects']['TestObject']['location'])"
   ]
  },
  {
   "cell_type": "code",
   "execution_count": 6,
   "metadata": {},
   "outputs": [],
   "source": [
    "api.set_arm_configuration(\"pick_up\")"
   ]
  },
  {
   "cell_type": "code",
   "execution_count": 7,
   "metadata": {},
   "outputs": [],
   "source": [
    "api.grasp_object(request['what'])"
   ]
  },
  {
   "cell_type": "code",
   "execution_count": 8,
   "metadata": {},
   "outputs": [],
   "source": [
    "api.set_arm_configuration(\"lift_up\")"
   ]
  },
  {
   "cell_type": "code",
   "execution_count": 9,
   "metadata": {},
   "outputs": [
    {
     "name": "stdout",
     "output_type": "stream",
     "text": [
      "position: \n",
      "  x: 2.0\n",
      "  y: 0.0\n",
      "  z: 1.0\n",
      "orientation: \n",
      "  x: 0.0\n",
      "  y: 0.0\n",
      "  z: 0.0\n",
      "  w: 1.0\n",
      "[[ 1.   0.   0.  -0.7]\n",
      " [ 0.   1.   0.   0. ]\n",
      " [ 0.   0.   1.   0. ]\n",
      " [ 0.   0.   0.   1. ]]\n",
      "[[ 1.  0.  0.  2.]\n",
      " [ 0.  1.  0.  0.]\n",
      " [ 0.  0.  1.  1.]\n",
      " [ 0.  0.  0.  1.]]\n",
      "[[ 1.   0.   0.   1.3]\n",
      " [ 0.   1.   0.   0. ]\n",
      " [ 0.   0.   1.   1. ]\n",
      " [ 0.   0.   0.   1. ]]\n"
     ]
    }
   ],
   "source": [
    "api.drive_to(info['Personas'][request['recipient']]['location'])"
   ]
  },
  {
   "cell_type": "code",
   "execution_count": 10,
   "metadata": {},
   "outputs": [
    {
     "name": "stdout",
     "output_type": "stream",
     "text": [
      "[INFO] [1626395248.252998, 89.815000]: Robot says: Got the MomWallet for you\n"
     ]
    }
   ],
   "source": [
    "api.say(\"Got the {} for you\".format(request['what']))"
   ]
  },
  {
   "cell_type": "code",
   "execution_count": 11,
   "metadata": {},
   "outputs": [],
   "source": [
    "api.drop_object(request['what'])"
   ]
  },
  {
   "cell_type": "code",
   "execution_count": 12,
   "metadata": {},
   "outputs": [],
   "source": [
    "api.set_arm_configuration(\"tucked\")"
   ]
  },
  {
   "cell_type": "code",
   "execution_count": 5,
   "metadata": {},
   "outputs": [
    {
     "name": "stdout",
     "output_type": "stream",
     "text": [
      "Deleting TestObject\n",
      "Deleting Mom\n"
     ]
    }
   ],
   "source": [
    "# Debug: reset scene\n",
    "api.destroy_scene()"
   ]
  },
  {
   "cell_type": "code",
   "execution_count": null,
   "metadata": {},
   "outputs": [],
   "source": []
  }
 ],
 "metadata": {
  "kernelspec": {
   "display_name": "Python 2",
   "language": "python",
   "name": "python2"
  },
  "language_info": {
   "codemirror_mode": {
    "name": "ipython",
    "version": 2
   },
   "file_extension": ".py",
   "mimetype": "text/x-python",
   "name": "python",
   "nbconvert_exporter": "python",
   "pygments_lexer": "ipython2",
   "version": "2.7.17"
  }
 },
 "nbformat": 4,
 "nbformat_minor": 2
}
