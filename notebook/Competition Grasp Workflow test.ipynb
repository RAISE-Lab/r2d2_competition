{
 "cells": [
  {
   "cell_type": "code",
   "execution_count": 1,
   "metadata": {},
   "outputs": [],
   "source": [
    "from r2d2_competition_api import API"
   ]
  },
  {
   "cell_type": "code",
   "execution_count": 2,
   "metadata": {},
   "outputs": [],
   "source": [
    "import rospy\n",
    "rospy.init_node(\"notebook_client\",anonymous=True)"
   ]
  },
  {
   "cell_type": "code",
   "execution_count": 3,
   "metadata": {},
   "outputs": [],
   "source": [
    "# Initialize API, loading config from competition.yaml\n",
    "api = API()"
   ]
  },
  {
   "cell_type": "code",
   "execution_count": 4,
   "metadata": {},
   "outputs": [],
   "source": [
    "api.drive_to(\"Start\")"
   ]
  },
  {
   "cell_type": "code",
   "execution_count": 5,
   "metadata": {},
   "outputs": [],
   "source": [
    "# add new user defined location and drop ball there\n",
    "from tf.transformations import quaternion_from_euler\n",
    "robot_rotation = 0. # degrees\n",
    "q = quaternion_from_euler(0.,0.,robot_rotation/360.*2.*3.14)\n",
    "api._locations['InFrontofRobot'] = \\\n",
    "    {'position': {'x':0.8,'y':0.,'z':0.5},\n",
    "     'orientation': {'x': q[0],'y':q[1],'z':q[2],'w':q[3]}} "
   ]
  },
  {
   "cell_type": "code",
   "execution_count": 6,
   "metadata": {},
   "outputs": [],
   "source": [
    "api.set_arm_configuration(\"pick_up\")"
   ]
  },
  {
   "cell_type": "code",
   "execution_count": 7,
   "metadata": {},
   "outputs": [],
   "source": [
    "api.spawn_object(\"Banana\",\"InFrontofRobot\",\"Ball2\")"
   ]
  },
  {
   "cell_type": "code",
   "execution_count": 8,
   "metadata": {},
   "outputs": [],
   "source": [
    "api.grasp_object(\"Ball2\")"
   ]
  },
  {
   "cell_type": "code",
   "execution_count": 9,
   "metadata": {},
   "outputs": [],
   "source": [
    "api.set_arm_configuration(\"lift_up\")"
   ]
  },
  {
   "cell_type": "code",
   "execution_count": 10,
   "metadata": {},
   "outputs": [],
   "source": [
    "api.drive_to(\"ASmallStepForMe\")"
   ]
  },
  {
   "cell_type": "code",
   "execution_count": 11,
   "metadata": {},
   "outputs": [],
   "source": [
    "api.drop_object(\"Ball2\")"
   ]
  },
  {
   "cell_type": "code",
   "execution_count": 12,
   "metadata": {},
   "outputs": [],
   "source": [
    "api.remove_object(\"Ball2\")"
   ]
  },
  {
   "cell_type": "code",
   "execution_count": 40,
   "metadata": {},
   "outputs": [
    {
     "data": {
      "text/plain": [
       "joint_state: \n",
       "  header: \n",
       "    seq: 0\n",
       "    stamp: \n",
       "      secs: 0\n",
       "      nsecs:         0\n",
       "    frame_id: \"base_footprint\"\n",
       "  name: [caster_back_left_1_joint, caster_back_left_2_joint, caster_back_right_1_joint, caster_back_right_2_joint,\n",
       "  caster_front_left_1_joint, caster_front_left_2_joint, caster_front_right_1_joint,\n",
       "  caster_front_right_2_joint, suspension_left_joint, wheel_left_joint, suspension_right_joint,\n",
       "  wheel_right_joint, torso_lift_joint, arm_1_joint, arm_2_joint, arm_3_joint, arm_4_joint,\n",
       "  arm_5_joint, arm_6_joint, arm_7_joint, hand_index_abd_joint, hand_index_virtual_1_joint,\n",
       "  hand_index_flex_1_joint, hand_index_virtual_2_joint, hand_index_flex_2_joint, hand_index_virtual_3_joint,\n",
       "  hand_index_flex_3_joint, hand_index_joint, hand_little_abd_joint, hand_little_virtual_1_joint,\n",
       "  hand_little_flex_1_joint, hand_little_virtual_2_joint, hand_little_flex_2_joint,\n",
       "  hand_little_virtual_3_joint, hand_little_flex_3_joint, hand_middle_abd_joint, hand_middle_virtual_1_joint,\n",
       "  hand_middle_flex_1_joint, hand_middle_virtual_2_joint, hand_middle_flex_2_joint,\n",
       "  hand_middle_virtual_3_joint, hand_middle_flex_3_joint, hand_mrl_joint, hand_ring_abd_joint,\n",
       "  hand_ring_virtual_1_joint, hand_ring_flex_1_joint, hand_ring_virtual_2_joint, hand_ring_flex_2_joint,\n",
       "  hand_ring_virtual_3_joint, hand_ring_flex_3_joint, hand_thumb_abd_joint, hand_thumb_virtual_1_joint,\n",
       "  hand_thumb_flex_1_joint, hand_thumb_virtual_2_joint, hand_thumb_flex_2_joint, hand_thumb_joint,\n",
       "  head_1_joint, head_2_joint]\n",
       "  position: [0.0, 0.0, 0.0, 0.0, 0.0, 0.0, 0.0, 0.0, 0.0, -1.5413372005605197, 0.0, 77.42642137139822, 0.14980747003992273, 0.8299361601783106, 0.48551279938677006, -0.5389073768483561, 2.2497863473783912, -0.039045942529300603, -0.3004467766855443, -1.0610151173090374, 0.0016546788817670688, -0.020336803774997136, 0.035738776326957655, -0.02596793143175713, 0.050148358556871386, -0.008590088039531985, 0.01933796832752588, 0.01288294927573741, -0.3167323553370336, -0.012037493958453105, 0.04966585188403627, -0.011488545013989437, 0.053549616751424445, -0.00749891693887772, 0.02083704090983307, 0.23264582521510313, -0.0164367418068041, 0.023491561512877013, -0.03219951492850992, 0.041281189472639035, -0.014369688353487398, 0.016796669602027414, 0.009476682023913163, -0.0023024581294031066, -0.017165170399283447, 0.022428822734556597, -0.029121693524030157, 0.04612383318272162, -0.014418951104198108, 0.018346739286853264, 0.006223168403134416, -0.00277374890956672, 0.058739431766762884, 0.030606590906989695, 0.03354118298789999, 0.012965705529770943, 0.0017776360355235, -0.010194377108958541]\n",
       "  velocity: []\n",
       "  effort: []\n",
       "multi_dof_joint_state: \n",
       "  header: \n",
       "    seq: 0\n",
       "    stamp: \n",
       "      secs: 0\n",
       "      nsecs:         0\n",
       "    frame_id: \"base_footprint\"\n",
       "  joint_names: []\n",
       "  transforms: []\n",
       "  twist: []\n",
       "  wrench: []\n",
       "attached_collision_objects: []\n",
       "is_diff: False"
      ]
     },
     "execution_count": 40,
     "metadata": {},
     "output_type": "execute_result"
    }
   ],
   "source": []
  },
  {
   "cell_type": "code",
   "execution_count": null,
   "metadata": {},
   "outputs": [],
   "source": []
  }
 ],
 "metadata": {
  "kernelspec": {
   "display_name": "Python 2",
   "language": "python",
   "name": "python2"
  },
  "language_info": {
   "codemirror_mode": {
    "name": "ipython",
    "version": 2
   },
   "file_extension": ".py",
   "mimetype": "text/x-python",
   "name": "python",
   "nbconvert_exporter": "python",
   "pygments_lexer": "ipython2",
   "version": "2.7.17"
  }
 },
 "nbformat": 4,
 "nbformat_minor": 2
}
