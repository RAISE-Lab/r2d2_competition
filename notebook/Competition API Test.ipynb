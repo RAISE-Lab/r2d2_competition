{
 "cells": [
  {
   "cell_type": "code",
   "execution_count": 1,
   "metadata": {},
   "outputs": [],
   "source": [
    "from r2d2_competition_api import API"
   ]
  },
  {
   "cell_type": "code",
   "execution_count": 2,
   "metadata": {},
   "outputs": [],
   "source": [
    "import rospy\n",
    "rospy.init_node(\"notebook_client\",anonymous=True)"
   ]
  },
  {
   "cell_type": "code",
   "execution_count": 3,
   "metadata": {},
   "outputs": [],
   "source": [
    "# Initialize API, loading config from competition.yaml\n",
    "api = API()"
   ]
  },
  {
   "cell_type": "code",
   "execution_count": 5,
   "metadata": {},
   "outputs": [],
   "source": [
    "# Manually spawn an Object\n",
    "api.spawn_object(\"Banana\",\"KitchenCounter\",\"Banana1\")"
   ]
  },
  {
   "cell_type": "code",
   "execution_count": 6,
   "metadata": {},
   "outputs": [],
   "source": [
    "# Remove the spawned object\n",
    "api.remove_object(\"Banana1\")"
   ]
  },
  {
   "cell_type": "code",
   "execution_count": 7,
   "metadata": {},
   "outputs": [
    {
     "name": "stdout",
     "output_type": "stream",
     "text": [
      "[INFO] [1626111047.318761, 40.094000]: Loading scene TheMomReturnsFromWork\n"
     ]
    }
   ],
   "source": [
    "# Load a whole scene\n",
    "my_scene = api.list_scenes()[0]\n",
    "api.load_scene(my_scene)"
   ]
  },
  {
   "cell_type": "code",
   "execution_count": 8,
   "metadata": {},
   "outputs": [
    {
     "data": {
      "text/plain": [
       "'Get me a whiskey'"
      ]
     },
     "execution_count": 8,
     "metadata": {},
     "output_type": "execute_result"
    }
   ],
   "source": [
    "# Get the request associated with this scene\n",
    "api.get_request()"
   ]
  },
  {
   "cell_type": "code",
   "execution_count": 28,
   "metadata": {},
   "outputs": [],
   "source": [
    "# Remove all object from the scene and reset robot position\n",
    "api.destroy_scene()"
   ]
  },
  {
   "cell_type": "code",
   "execution_count": 10,
   "metadata": {},
   "outputs": [
    {
     "data": {
      "text/plain": [
       "{'drop': [1.611, -1.22, -2.82, 1.53, -1.53, 1.29, 1.22],\n",
       " 'present': [1.611, -1.22, -2.82, 1.539, -1.53, 1.29, 1.22],\n",
       " 'tucked': [0.2, -1.34, -0.2, 1.94, -1.56, 1.37, 0.0],\n",
       " 'tucked2': [0.2, -1.34, -0.2, 1.94, -1.56, 0.0, 0.0]}"
      ]
     },
     "execution_count": 10,
     "metadata": {},
     "output_type": "execute_result"
    }
   ],
   "source": [
    "api._arm_configurations"
   ]
  },
  {
   "cell_type": "code",
   "execution_count": 11,
   "metadata": {},
   "outputs": [],
   "source": [
    "api.set_arm_configuration(\"tucked2\")"
   ]
  },
  {
   "cell_type": "code",
   "execution_count": 6,
   "metadata": {},
   "outputs": [
    {
     "name": "stdout",
     "output_type": "stream",
     "text": [
      "[0.35, 0.19997330847886374, -1.3361226698466817, -0.19997708086415766, 1.9347851479744627, -1.5596581676411034, -0.007223318496402342, -0.0007686475852999308]\n"
     ]
    },
    {
     "ename": "MoveItCommanderException",
     "evalue": "Error setting joint target. Is the target within bounds?",
     "output_type": "error",
     "traceback": [
      "\u001b[0;31m\u001b[0m",
      "\u001b[0;31mMoveItCommanderException\u001b[0mTraceback (most recent call last)",
      "\u001b[0;32m<ipython-input-6-13e9d0e2ab72>\u001b[0m in \u001b[0;36m<module>\u001b[0;34m()\u001b[0m\n\u001b[1;32m      1\u001b[0m \u001b[0;31m# TODO: still has a bug\u001b[0m\u001b[0;34m\u001b[0m\u001b[0;34m\u001b[0m\u001b[0m\n\u001b[0;32m----> 2\u001b[0;31m \u001b[0mapi\u001b[0m\u001b[0;34m.\u001b[0m\u001b[0mset_torso_configuration\u001b[0m\u001b[0;34m(\u001b[0m\u001b[0;34m\"tall\"\u001b[0m\u001b[0;34m)\u001b[0m\u001b[0;34m\u001b[0m\u001b[0m\n\u001b[0m",
      "\u001b[0;32m/competition_ws/devel/lib/python2.7/dist-packages/r2d2_competition_api/__init__.pyc\u001b[0m in \u001b[0;36mset_torso_configuration\u001b[0;34m(self, configuration_name)\u001b[0m\n",
      "\u001b[0;32m/opt/ros/melodic/lib/python2.7/dist-packages/moveit_commander/move_group.pyc\u001b[0m in \u001b[0;36mgo\u001b[0;34m(self, joints, wait)\u001b[0m\n\u001b[1;32m    510\u001b[0m                 \u001b[0mself\u001b[0m\u001b[0;34m.\u001b[0m\u001b[0mset_joint_value_target\u001b[0m\u001b[0;34m(\u001b[0m\u001b[0mself\u001b[0m\u001b[0;34m.\u001b[0m\u001b[0mget_remembered_joint_values\u001b[0m\u001b[0;34m(\u001b[0m\u001b[0;34m)\u001b[0m\u001b[0;34m[\u001b[0m\u001b[0mjoints\u001b[0m\u001b[0;34m]\u001b[0m\u001b[0;34m)\u001b[0m\u001b[0;34m\u001b[0m\u001b[0m\n\u001b[1;32m    511\u001b[0m             \u001b[0;32mexcept\u001b[0m\u001b[0;34m:\u001b[0m\u001b[0;34m\u001b[0m\u001b[0m\n\u001b[0;32m--> 512\u001b[0;31m                 \u001b[0mself\u001b[0m\u001b[0;34m.\u001b[0m\u001b[0mset_joint_value_target\u001b[0m\u001b[0;34m(\u001b[0m\u001b[0mjoints\u001b[0m\u001b[0;34m)\u001b[0m\u001b[0;34m\u001b[0m\u001b[0m\n\u001b[0m\u001b[1;32m    513\u001b[0m         \u001b[0;32mif\u001b[0m \u001b[0mwait\u001b[0m\u001b[0;34m:\u001b[0m\u001b[0;34m\u001b[0m\u001b[0m\n\u001b[1;32m    514\u001b[0m             \u001b[0;32mreturn\u001b[0m \u001b[0mself\u001b[0m\u001b[0;34m.\u001b[0m\u001b[0m_g\u001b[0m\u001b[0;34m.\u001b[0m\u001b[0mmove\u001b[0m\u001b[0;34m(\u001b[0m\u001b[0;34m)\u001b[0m\u001b[0;34m\u001b[0m\u001b[0m\n",
      "\u001b[0;32m/opt/ros/melodic/lib/python2.7/dist-packages/moveit_commander/move_group.pyc\u001b[0m in \u001b[0;36mset_joint_value_target\u001b[0;34m(self, arg1, arg2, arg3)\u001b[0m\n\u001b[1;32m    239\u001b[0m                 \u001b[0;32mraise\u001b[0m \u001b[0mMoveItCommanderException\u001b[0m\u001b[0;34m(\u001b[0m\u001b[0;34m\"Too many arguments specified\"\u001b[0m\u001b[0;34m)\u001b[0m\u001b[0;34m\u001b[0m\u001b[0m\n\u001b[1;32m    240\u001b[0m             \u001b[0;32mif\u001b[0m \u001b[0;32mnot\u001b[0m \u001b[0mself\u001b[0m\u001b[0;34m.\u001b[0m\u001b[0m_g\u001b[0m\u001b[0;34m.\u001b[0m\u001b[0mset_joint_value_target\u001b[0m\u001b[0;34m(\u001b[0m\u001b[0marg1\u001b[0m\u001b[0;34m)\u001b[0m\u001b[0;34m:\u001b[0m\u001b[0;34m\u001b[0m\u001b[0m\n\u001b[0;32m--> 241\u001b[0;31m                 \u001b[0;32mraise\u001b[0m \u001b[0mMoveItCommanderException\u001b[0m\u001b[0;34m(\u001b[0m\u001b[0;34m\"Error setting joint target. Is the target within bounds?\"\u001b[0m\u001b[0;34m)\u001b[0m\u001b[0;34m\u001b[0m\u001b[0m\n\u001b[0m\u001b[1;32m    242\u001b[0m \u001b[0;34m\u001b[0m\u001b[0m\n\u001b[1;32m    243\u001b[0m         \u001b[0;32melse\u001b[0m\u001b[0;34m:\u001b[0m\u001b[0;34m\u001b[0m\u001b[0m\n",
      "\u001b[0;31mMoveItCommanderException\u001b[0m: Error setting joint target. Is the target within bounds?"
     ]
    }
   ],
   "source": [
    "# TODO: still has a bug \n",
    "api.set_torso_configuration(\"tall\")"
   ]
  },
  {
   "cell_type": "code",
   "execution_count": 7,
   "metadata": {},
   "outputs": [],
   "source": [
    "# Drive 0.5m forward\n",
    "api.drive_to(\"ASmallStepForMe\")"
   ]
  },
  {
   "cell_type": "code",
   "execution_count": 27,
   "metadata": {},
   "outputs": [],
   "source": [
    "# TODO: grasp workflow with hack\n",
    "# TODO: say"
   ]
  },
  {
   "cell_type": "code",
   "execution_count": 26,
   "metadata": {},
   "outputs": [],
   "source": [
    "# Advanced: add new user defined waypoint and drive to it\n",
    "from tf.transformations import quaternion_from_euler\n",
    "robot_rotation = 150. # degrees\n",
    "q=quaternion_from_euler(0.,0.,robot_rotation/360.*2.*3.14)\n",
    "api._locations['NextToBed'] = \\\n",
    "    {'position': {'x':-5.,'y':0.,'z':0.},\n",
    "     'orientation': {'x': q[0],'y':q[1],'z':q[2],'w':q[3]}} \n",
    "api.drive_to('NextToBed')"
   ]
  },
  {
   "cell_type": "code",
   "execution_count": null,
   "metadata": {},
   "outputs": [],
   "source": [
    "# Debug: get arm configuration\n",
    "api.get_arm_configuration()"
   ]
  },
  {
   "cell_type": "code",
   "execution_count": 8,
   "metadata": {},
   "outputs": [],
   "source": [
    "# Debug: reset scene\n",
    "api.reset_scene()"
   ]
  },
  {
   "cell_type": "code",
   "execution_count": null,
   "metadata": {},
   "outputs": [],
   "source": []
  }
 ],
 "metadata": {
  "kernelspec": {
   "display_name": "Python 2",
   "language": "python",
   "name": "python2"
  },
  "language_info": {
   "codemirror_mode": {
    "name": "ipython",
    "version": 2
   },
   "file_extension": ".py",
   "mimetype": "text/x-python",
   "name": "python",
   "nbconvert_exporter": "python",
   "pygments_lexer": "ipython2",
   "version": "2.7.17"
  }
 },
 "nbformat": 4,
 "nbformat_minor": 2
}
