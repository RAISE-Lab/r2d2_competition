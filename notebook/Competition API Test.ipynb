{
 "cells": [
  {
   "cell_type": "code",
   "execution_count": 1,
   "metadata": {},
   "outputs": [],
   "source": [
    "from r2d2_competition_api import API"
   ]
  },
  {
   "cell_type": "code",
   "execution_count": 2,
   "metadata": {},
   "outputs": [],
   "source": [
    "import rospy\n",
    "rospy.init_node(\"notebook_client\",anonymous=True)"
   ]
  },
  {
   "cell_type": "code",
   "execution_count": 3,
   "metadata": {},
   "outputs": [],
   "source": [
    "# Initialize API, loading config from competition.yaml\n",
    "api = API()"
   ]
  },
  {
   "cell_type": "code",
   "execution_count": 7,
   "metadata": {},
   "outputs": [],
   "source": [
    "# Manually spawn an Object\n",
    "api.spawn_object(\"Banana\",\"KitchenCounter\",\"Banana1\")"
   ]
  },
  {
   "cell_type": "code",
   "execution_count": 15,
   "metadata": {},
   "outputs": [
    {
     "ename": "ValueError",
     "evalue": "list.remove(x): x not in list",
     "output_type": "error",
     "traceback": [
      "\u001b[0;31m\u001b[0m",
      "\u001b[0;31mValueError\u001b[0mTraceback (most recent call last)",
      "\u001b[0;32m<ipython-input-15-801558853c8d>\u001b[0m in \u001b[0;36m<module>\u001b[0;34m()\u001b[0m\n\u001b[1;32m      1\u001b[0m \u001b[0;31m# Remove the spawned object\u001b[0m\u001b[0;34m\u001b[0m\u001b[0;34m\u001b[0m\u001b[0m\n\u001b[0;32m----> 2\u001b[0;31m \u001b[0mapi\u001b[0m\u001b[0;34m.\u001b[0m\u001b[0mremove_object\u001b[0m\u001b[0;34m(\u001b[0m\u001b[0;34m\"Banana1\"\u001b[0m\u001b[0;34m)\u001b[0m\u001b[0;34m\u001b[0m\u001b[0m\n\u001b[0m",
      "\u001b[0;32m/competition_ws/devel/lib/python2.7/dist-packages/r2d2_competition_api/__init__.pyc\u001b[0m in \u001b[0;36mremove_object\u001b[0;34m(self, object_handle)\u001b[0m\n",
      "\u001b[0;31mValueError\u001b[0m: list.remove(x): x not in list"
     ]
    }
   ],
   "source": [
    "# Remove the spawned object\n",
    "api.remove_object(\"Banana1\")"
   ]
  },
  {
   "cell_type": "code",
   "execution_count": 6,
   "metadata": {},
   "outputs": [
    {
     "name": "stdout",
     "output_type": "stream",
     "text": [
      "[INFO] [1626114428.647818, 5.674000]: Loading scene TheMomReturnsFromWork\n"
     ]
    }
   ],
   "source": [
    "# Load a whole scene\n",
    "my_scene = api.list_scenes()[0]\n",
    "api.load_scene(my_scene)"
   ]
  },
  {
   "cell_type": "code",
   "execution_count": 7,
   "metadata": {},
   "outputs": [
    {
     "data": {
      "text/plain": [
       "'Get me a whiskey'"
      ]
     },
     "execution_count": 7,
     "metadata": {},
     "output_type": "execute_result"
    }
   ],
   "source": [
    "# Get the request associated with this scene\n",
    "api.get_request()"
   ]
  },
  {
   "cell_type": "code",
   "execution_count": 6,
   "metadata": {},
   "outputs": [],
   "source": [
    "# Remove all object from the scene and reset robot position\n",
    "api.destroy_scene()"
   ]
  },
  {
   "cell_type": "code",
   "execution_count": 8,
   "metadata": {},
   "outputs": [
    {
     "data": {
      "text/plain": [
       "{'drop': [1.72, -0.62, -2.95, 1.73, -1.38, 0.48, 1.14],\n",
       " 'lift_up': [0.11, 1.01, -1.66, 1.77, 1.2, -1.39, -1.85],\n",
       " 'pick_up': [1.72, -0.62, -2.95, 1.73, -1.38, 0.48, 1.14],\n",
       " 'present': [1.611, -1.22, -2.82, 1.539, -1.53, 1.29, 1.22],\n",
       " 'tucked': [0.2, -1.34, -0.2, 1.94, -1.56, 1.37, 0.0],\n",
       " 'tucked2': [0.2, -1.34, -0.2, 1.94, -1.56, 0.0, 0.0]}"
      ]
     },
     "execution_count": 8,
     "metadata": {},
     "output_type": "execute_result"
    }
   ],
   "source": [
    "api._arm_configurations"
   ]
  },
  {
   "cell_type": "code",
   "execution_count": 4,
   "metadata": {},
   "outputs": [],
   "source": [
    "api.set_arm_configuration(\"pick_up\")"
   ]
  },
  {
   "cell_type": "code",
   "execution_count": 8,
   "metadata": {},
   "outputs": [],
   "source": [
    "# TODO: still has a bug \n",
    "#api.set_torso_configuration(\"tall\")"
   ]
  },
  {
   "cell_type": "code",
   "execution_count": 11,
   "metadata": {},
   "outputs": [],
   "source": [
    "# Drive 0.5m forward\n",
    "api.drive_to(\"ASmallStepForMe\")"
   ]
  },
  {
   "cell_type": "code",
   "execution_count": 11,
   "metadata": {},
   "outputs": [],
   "source": [
    "api.set_arm_configuration(\"pick_up\")"
   ]
  },
  {
   "cell_type": "code",
   "execution_count": 13,
   "metadata": {},
   "outputs": [],
   "source": [
    "# Advanced: add new user defined waypoint and drive to it\n",
    "from tf.transformations import quaternion_from_euler\n",
    "robot_rotation = 150. # degrees\n",
    "q=quaternion_from_euler(0.,0.,robot_rotation/360.*2.*3.14)\n",
    "api._locations['NextToBed'] = \\\n",
    "    {'position': {'x':-5.,'y':0.,'z':0.},\n",
    "     'orientation': {'x': q[0],'y':q[1],'z':q[2],'w':q[3]}} \n",
    "api.drive_to('NextToBed')"
   ]
  },
  {
   "cell_type": "code",
   "execution_count": 19,
   "metadata": {},
   "outputs": [
    {
     "name": "stdout",
     "output_type": "stream",
     "text": [
      "[0.83, 0.49, -0.54, 2.25, -0.04, -0.30, -1.06]\n"
     ]
    }
   ],
   "source": [
    "# Debug: get arm configuration, in a format for competition.yaml\n",
    "print('[{:.2f}, {:.2f}, {:.2f}, {:.2f}, {:.2f}, {:.2f}, {:.2f}]'.format(*api.get_arm_configuration()))"
   ]
  },
  {
   "cell_type": "code",
   "execution_count": 16,
   "metadata": {},
   "outputs": [],
   "source": [
    "# Debug: reset scene\n",
    "api.reset_scene()"
   ]
  },
  {
   "cell_type": "code",
   "execution_count": 11,
   "metadata": {},
   "outputs": [
    {
     "data": {
      "text/plain": [
       "True"
      ]
     },
     "execution_count": 11,
     "metadata": {},
     "output_type": "execute_result"
    }
   ],
   "source": [
    "# Debug: use move_group directly\n",
    "api._arm_move_group.go([0.52, 0.74, -1.04, 2.2, 0.64, -0.64, -1.59],wait=True)"
   ]
  },
  {
   "cell_type": "code",
   "execution_count": null,
   "metadata": {},
   "outputs": [],
   "source": []
  },
  {
   "cell_type": "code",
   "execution_count": null,
   "metadata": {},
   "outputs": [],
   "source": []
  }
 ],
 "metadata": {
  "kernelspec": {
   "display_name": "Python 2",
   "language": "python",
   "name": "python2"
  },
  "language_info": {
   "codemirror_mode": {
    "name": "ipython",
    "version": 2
   },
   "file_extension": ".py",
   "mimetype": "text/x-python",
   "name": "python",
   "nbconvert_exporter": "python",
   "pygments_lexer": "ipython2",
   "version": "2.7.17"
  }
 },
 "nbformat": 4,
 "nbformat_minor": 2
}
