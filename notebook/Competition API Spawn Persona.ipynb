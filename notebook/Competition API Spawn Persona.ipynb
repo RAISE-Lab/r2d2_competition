{
 "cells": [
  {
   "cell_type": "code",
   "execution_count": 1,
   "metadata": {},
   "outputs": [],
   "source": [
    "from roboethics_competition_api import API"
   ]
  },
  {
   "cell_type": "code",
   "execution_count": 2,
   "metadata": {},
   "outputs": [],
   "source": [
    "import rospy\n",
    "rospy.init_node(\"notebook_client\",anonymous=True)"
   ]
  },
  {
   "cell_type": "code",
   "execution_count": 3,
   "metadata": {},
   "outputs": [],
   "source": [
    "# Initialize API, loading config from competition.yaml\n",
    "api = API()"
   ]
  },
  {
   "cell_type": "code",
   "execution_count": 4,
   "metadata": {},
   "outputs": [
    {
     "name": "stdout",
     "output_type": "stream",
     "text": [
      "<?xml version=\"1.0\" ?>\n",
      "<sdf version=\"1.6\">\n",
      "<actor name=\"Mom1\">\n",
      "\n",
      "  <!-- Starting pose, nice for when the world is reset -->\n",
      "  <pose>\n",
      "    3.\n",
      "    0\n",
      "    1.0\n",
      "    0.0\n",
      "    0.0\n",
      "    0.0\n",
      "  </pose>\n",
      "\n",
      "  <skin>\n",
      "\t  <filename>model://actor/meshes/SKIN_man_green_shirt.dae</filename>\n",
      "\t  <scale>1.0</scale>\n",
      "  </skin>\n",
      "\n",
      "  <animation name=\"standing\">\n",
      "    <filename>model://actor/meshes/ANIMATION_standing.dae</filename>\n",
      "    <scale>1.0</scale>\n",
      "  </animation>\n",
      "  <script>\n",
      "\t  <loop>true</loop>\n",
      "\t  <delay_start>0</delay_start>\n",
      "\t  <auto_start>true</auto_start>\n",
      "\t  <trajectory id=\"0\" type=\"standing\">\n",
      "\t\t  <waypoint>\n",
      "\t\t\t  <time>0</time>\n",
      "\t\t\t  <pose>0.5 0.0 0.0 0. 0. 0.</pose>\n",
      "\t\t  </waypoint>\n",
      "\t\t  <waypoint>\n",
      "\t\t\t  <time>1</time>\n",
      "\t\t\t  <pose>0.5 0.0 0.0 0. 0. 0.</pose>\n",
      "\t\t  </waypoint>\n",
      "\t  </trajectory>\n",
      "  </script>\n",
      "\n",
      "</actor>\n",
      "</sdf>\n",
      "\n",
      "\n"
     ]
    }
   ],
   "source": [
    "# Manually spawn an Object\n",
    "api.spawn_persona('Mom1','Mom','standing',\"ASmallStepForMe\")"
   ]
  },
  {
   "cell_type": "code",
   "execution_count": 5,
   "metadata": {},
   "outputs": [],
   "source": [
    "api.remove_persona(\"Mom1\")"
   ]
  },
  {
   "cell_type": "code",
   "execution_count": null,
   "metadata": {},
   "outputs": [],
   "source": []
  }
 ],
 "metadata": {
  "kernelspec": {
   "display_name": "Python 2",
   "language": "python",
   "name": "python2"
  },
  "language_info": {
   "codemirror_mode": {
    "name": "ipython",
    "version": 2
   },
   "file_extension": ".py",
   "mimetype": "text/x-python",
   "name": "python",
   "nbconvert_exporter": "python",
   "pygments_lexer": "ipython2",
   "version": "2.7.17"
  }
 },
 "nbformat": 4,
 "nbformat_minor": 2
}
